{
 "cells": [
  {
   "cell_type": "code",
   "execution_count": 1,
   "metadata": {},
   "outputs": [
    {
     "name": "stderr",
     "output_type": "stream",
     "text": [
      "/home/shyam/anaconda2/lib/python2.7/site-packages/skimage/viewer/utils/core.py:10: UserWarning: Recommended matplotlib backend is `Agg` for full skimage.viewer functionality.\n",
      "  warn(\"Recommended matplotlib backend is `Agg` for full \"\n"
     ]
    }
   ],
   "source": [
    "import numpy as np\n",
    "import sys\n",
    "import os\n",
    "import re\n",
    "import collections\n",
    "import fnmatch\n",
    "from scipy import misc\n",
    "import matplotlib.pyplot as plt\n",
    "from skimage import color\n",
    "from skimage import io\n",
    "from skimage.transform import resize, rescale, rotate, setup, warp, AffineTransform\n",
    "from skimage.viewer import ImageViewer\n",
    "from dim_reduce import pca_decmp\n",
    "from sklearn.model_selection import train_test_split\n",
    "from random import shuffle\n",
    "\n",
    "from sklearn import svm\n",
    "from sklearn import linear_model\n",
    "from sklearn.naive_bayes import GaussianNB\n",
    "from sklearn.neighbors import KNeighborsClassifier\n",
    "from sklearn.tree import DecisionTreeClassifier\n",
    "from matplotlib import pyplot as plt \n",
    "from visualize import plot\n",
    "import pickle\n",
    "from sklearn.decomposition import PCA "
   ]
  },
  {
   "cell_type": "code",
   "execution_count": 2,
   "metadata": {
    "collapsed": true
   },
   "outputs": [],
   "source": [
    "Male = ['AbrahamLincoln','AlbertEinstein','AamirKhan','BarackObama','AamirKhan','BhagatSingh','BillGates','BruceLee','CharlieChaplin','CheGuevara','DalaiLama','DanielCraig','DanielRadicliffe'\n",
    "'DavidBeckham','DwayneJohnson','EmmaWatson','GeorgeClooney','HughJackman','JackieChan','JawaharlalNehru','JimCarrey','JohnLennon','JohnnyDepp','JustinBieber','KatrinaKaif'\n",
    "'DiCaprio']\n",
    "Female = ['AishwaryaRai','AngelinaJolie','BritneySpears','EmmaWatson','HillaryClinton','KatrinaKaif','LataMangeshkar','MarilynMonroe','MeganFox','MotherTeresa','OprahWinfrey',\n",
    "'PrincessDiana','ScarlettJohansson','SelenaGomez','Shakira','TaylorSwift','AngelaMerkel','Beyonce','IndiraGandhi','J.K.Rowling','KateMiddleton','MargaretThatcher','NicoleKidman'\n",
    "'QueenElizabeth']\n",
    "File_path = 'cartoonFaces/'"
   ]
  },
  {
   "cell_type": "code",
   "execution_count": 3,
   "metadata": {},
   "outputs": [
    {
     "name": "stderr",
     "output_type": "stream",
     "text": [
      "/home/shyam/anaconda2/lib/python2.7/site-packages/skimage/transform/_warps.py:84: UserWarning: The default mode, 'constant', will be changed to 'reflect' in skimage 0.15.\n",
      "  warn(\"The default mode, 'constant', will be changed to 'reflect' in \"\n"
     ]
    }
   ],
   "source": [
    "CountM = 0\n",
    "CountF = 0\n",
    "MaxImg = 2500\n",
    "Count_Img = 0\n",
    "Label =np.zeros((2500),)\n",
    "Data = np.zeros((2500,48,48),)\n",
    "for file in os.listdir(File_path):\n",
    "    if file.endswith(\".jpeg\"):\n",
    "        FileStr = file       \n",
    "        FileStr_ = FileStr[:len(FileStr)-9]\n",
    "        if any(FileStr_ in s for s in Male):\n",
    "            CountM = CountM + 1\n",
    "            if CountM <= MaxImg/2:\n",
    "                img = color.rgb2gray(io.imread(File_path + FileStr))\n",
    "                img = resize(img, (48,48))\n",
    "                Data[Count_Img,:,:] = img\n",
    "                Label[Count_Img] = 1\n",
    "                Count_Img = Count_Img + 1\n",
    "        if any(FileStr_ in s for s in Female):\n",
    "            CountF = CountF + 1\n",
    "            if CountF <= MaxImg/2:\n",
    "                img = color.rgb2gray(io.imread(File_path + FileStr))\n",
    "                img = resize(img, (48,48))\n",
    "                Data[Count_Img,:,:] = img\n",
    "                Label[Count_Img] = -1\n",
    "                Count_Img = Count_Img + 1"
   ]
  },
  {
   "cell_type": "code",
   "execution_count": 4,
   "metadata": {
    "collapsed": true
   },
   "outputs": [],
   "source": [
    "Data = np.reshape(Data, (2500, 48*48))\n",
    "X_train, X_test, y_train, y_test = train_test_split(Data,Label,test_size=0.2,random_state=43)"
   ]
  },
  {
   "cell_type": "code",
   "execution_count": 7,
   "metadata": {
    "collapsed": true
   },
   "outputs": [],
   "source": [
    "def Cartoon_SVM(X_train_pca, X_valid_pca,y_train, y_valid):\n",
    "     clf = svm.SVC(C=0.1, kernel='linear',tol=0.001)\n",
    "     clf.fit(X_train_pca, y_train)\n",
    "     return (clf.predict(X_valid_pca))\n",
    "    \n",
    "def Cartoon_LR(X_train_pca, X_valid_pca,y_train, y_valid):\n",
    "    logreg = linear_model.LogisticRegression(C=0.1)\n",
    "    logreg.fit(X_train_pca, y_train)\n",
    "    return (logreg.predict(X_valid_pca))\n",
    "\n",
    "def Cartoon_bayes(X_train_pca, X_valid_pca,y_train, y_valid):\n",
    "    clf = GaussianNB()\n",
    "    clf.fit(X_train_pca, y_train)\n",
    "    return (clf.predict(X_valid_pca))\n",
    "\n",
    "def Cartoon_KNN(X_train_pca, X_valid_pca,y_train, y_valid):\n",
    "    neigh = KNeighborsClassifier(n_neighbors=3)\n",
    "    neigh.fit(X_train_pca, y_train)\n",
    "    return (neigh.predict(X_valid_pca))\n",
    "\n",
    "def Cartoon_DT(X_train_pca, X_valid_pca,y_train, y_valid):\n",
    "     clf = DecisionTreeClassifier(random_state=0,max_depth=7)\n",
    "     clf.fit(X_train_pca, y_train)\n",
    "     return (clf.predict(X_valid_pca))\n",
    "\n",
    "def Cartoon_Ensemble(X_train_pca, X_valid_pca,y_train, y_test):\n",
    "    P_KNN = Cartoon_KNN(X_train_pca, X_test_pca,y_train, y_test)\n",
    "    P_Bayes = Cartoon_bayes(X_train_pca, X_test_pca,y_train, y_test)\n",
    "    P_LR = Cartoon_LR(X_train_pca, X_test_pca,y_train, y_test)\n",
    "    P_SVM = Cartoon_SVM(X_train_pca, X_test_pca,y_train, y_test)\n",
    "    P_DT = Cartoon_DT(X_train_pca, X_test_pca,y_train, y_test)\n",
    "    return (np.sign(P_KNN+P_Bayes+P_LR+P_SVM+P_DT))"
   ]
  },
  {
   "cell_type": "code",
   "execution_count": 8,
   "metadata": {},
   "outputs": [
    {
     "name": "stdout",
     "output_type": "stream",
     "text": [
      "0.708 25\n",
      "0.632 20\n",
      "0.62 20\n",
      "0.696 10\n",
      "0.672 100\n",
      "0.68 20\n"
     ]
    }
   ],
   "source": [
    "num_comp = [5,7,10,15,20,25,30,40,50]\n",
    "#######################################Enseble Method ##############################################\n",
    "num_comp = [25] #69.4\n",
    "for comp in num_comp:\n",
    "    X_train_pca, X_test_pca, eigenfaces = pca_decmp(X_train,X_test,comp)\n",
    "    Prid_EM = Cartoon_Ensemble(X_train_pca, X_test_pca,y_train, y_test)\n",
    "    print float(sum(Prid_EM == y_test))/len(y_test),comp\n",
    "\n",
    "#######################################CartoonDT#####################################################\n",
    "num_comp = [20] #63.6\n",
    "for comp in num_comp:\n",
    "    X_train_pca, X_test_pca, eigenfaces = pca_decmp(X_train,X_test,comp)\n",
    "    Prid_DT = Cartoon_DT(X_train_pca, X_test_pca,y_train, y_test)\n",
    "    print float(sum(Prid_DT == y_test))/len(y_test),comp\n",
    "#####################################CartoonKNN#####################################################   \n",
    "num_comp = [20] #65\n",
    "for comp in num_comp:\n",
    "    X_train_pca, X_test_pca, eigenfaces = pca_decmp(X_train,X_test,comp)\n",
    "    Prid_KNN = Cartoon_KNN(X_train_pca, X_test_pca,y_train, y_test)\n",
    "    print float(sum(Prid_KNN == y_test))/len(y_test),comp\n",
    "    \n",
    "#####################################CartoonNB#####################################################       \n",
    "num_comp = [10] #65.4\n",
    "for comp in num_comp:\n",
    "    X_train_pca, X_test_pca, eigenfaces = pca_decmp(X_train,X_test,comp)\n",
    "    Prid_NB = Cartoon_bayes(X_train_pca, X_test_pca,y_train, y_test)\n",
    "    print float(sum(Prid_NB == y_test))/len(y_test),comp\n",
    "    \n",
    "#####################################CartoonLR#####################################################\n",
    "num_comp = [100] #65.2\n",
    "for comp in num_comp:\n",
    "    X_train_pca, X_test_pca, eigenfaces = pca_decmp(X_train,X_test,comp)\n",
    "    Prid_LR = Cartoon_LR(X_train_pca, X_test_pca,y_train, y_test)\n",
    "    print float(sum(Prid_LR == y_test))/len(y_test),comp\n",
    "    \n",
    "#####################################CartoonSVM#####################################################    \n",
    "num_comp = [20] #70\n",
    "for comp in num_comp:\n",
    "    X_train_pca, X_test_pca, eigenfaces = pca_decmp(X_train,X_test,comp)\n",
    "    Prid_SVM = Cartoon_SVM(X_train_pca, X_test_pca,y_train, y_test)\n",
    "    print float(sum(Prid_SVM == y_test))/len(y_test),comp"
   ]
  },
  {
   "cell_type": "code",
   "execution_count": 9,
   "metadata": {},
   "outputs": [
    {
     "name": "stdout",
     "output_type": "stream",
     "text": [
      "500\n"
     ]
    }
   ],
   "source": [
    "sh = list(range(len(y_test)))\n",
    "shuffle(sh)\n",
    "X_test_V = [np.reshape(X_test[sh[i]],(48,48)) for i in range(len(sh))]\n",
    "print len(X_test)\n",
    "y_ = [Prid_EM[sh[i]] for i in range(len(sh))]\n",
    "plot(X_test_V, output=\"predictions.png\", predictions=y_)"
   ]
  },
  {
   "cell_type": "code",
   "execution_count": 10,
   "metadata": {
    "collapsed": true
   },
   "outputs": [],
   "source": [
    "#pca = pickle.load(open('pca.pickle', 'rb'))\n",
    "#X_test_pca = pca.transform(X_test)\n",
    "#loaded_model = pickle.load(open('svm.pkl', 'rb'))\n",
    "#result = loaded_model.score(X_test_pca, y_test)\n",
    "#print(result)"
   ]
  },
  {
   "cell_type": "code",
   "execution_count": 11,
   "metadata": {
    "collapsed": true
   },
   "outputs": [],
   "source": [
    "File_path_real = 'realFaces/'\n",
    "CountM = 0\n",
    "CountF = 0\n",
    "MaxImg = 250\n",
    "Count_Img = 0\n",
    "LabelR =np.zeros((250),)\n",
    "DataR = np.zeros((250,48,48),)\n",
    "for file in os.listdir(File_path_real):\n",
    "    if file.endswith(\".jpg\"):\n",
    "        FileStr = file       \n",
    "        FileStr_ = FileStr[:len(FileStr)-9]\n",
    "        if any(FileStr_ in s for s in Male):\n",
    "            CountM = CountM + 1\n",
    "            if CountM <= MaxImg/2:\n",
    "                img = color.rgb2gray(io.imread(File_path_real + FileStr))\n",
    "                img = resize(img, (48,48))\n",
    "                DataR[Count_Img,:,:] = img\n",
    "                LabelR[Count_Img] = 1\n",
    "                Count_Img = Count_Img + 1\n",
    "        if any(FileStr_ in s for s in Female):\n",
    "            CountF = CountF + 1\n",
    "            if CountF <= MaxImg/2:\n",
    "                img = color.rgb2gray(io.imread(File_path_real + FileStr))\n",
    "                img = resize(img, (48,48))\n",
    "                DataR[Count_Img,:,:] = img\n",
    "                LabelR[Count_Img] = -1\n",
    "                Count_Img = Count_Img + 1"
   ]
  },
  {
   "cell_type": "code",
   "execution_count": 12,
   "metadata": {
    "collapsed": true
   },
   "outputs": [],
   "source": [
    "DataR = np.reshape(DataR, (250, 48*48))\n",
    "X_valid, X_test, y_valid, y_test = train_test_split(DataR,LabelR,test_size=0.5,random_state=23)"
   ]
  },
  {
   "cell_type": "code",
   "execution_count": 13,
   "metadata": {},
   "outputs": [
    {
     "name": "stdout",
     "output_type": "stream",
     "text": [
      "64.0\n",
      "64.0\n",
      "56.0\n",
      "60.8\n",
      "61.6\n",
      "62.4\n"
     ]
    }
   ],
   "source": [
    "#num_comp = [5,7,10,15,20,25,30,40,50]\n",
    "#######################################Enseble Method ##############################################\n",
    "num_comp = [30]\n",
    "for comp in num_comp:\n",
    "    X_train_pca, X_test_pca, eigenfaces = pca_decmp(X_train,X_test,comp)\n",
    "    Prid_EM = Cartoon_Ensemble(X_train_pca, X_test_pca,y_train, y_valid)\n",
    "    print (float(sum(Prid_EM == y_test))/len(y_test))*100\n",
    "\n",
    "#######################################CartoonDT#####################################################\n",
    "num_comp = [15]\n",
    "for comp in num_comp:\n",
    "    X_train_pca, X_test_pca, eigenfaces = pca_decmp(X_train,X_test,comp)\n",
    "    Prid_DT = Cartoon_DT(X_train_pca, X_test_pca,y_train, y_test)\n",
    "    print (float(sum(Prid_DT == y_test))/len(y_test))*100\n",
    "\n",
    "#####################################CartoonKNN#####################################################   \n",
    "num_comp = [20]\n",
    "for comp in num_comp:\n",
    "    X_train_pca, X_test_pca, eigenfaces = pca_decmp(X_train,X_test,comp)\n",
    "    Prid_KNN = Cartoon_KNN(X_train_pca, X_test_pca,y_train, y_test)\n",
    "    print (float(sum(Prid_KNN == y_test))/len(y_test))*100\n",
    "    \n",
    "#####################################CartoonNB#####################################################       \n",
    "num_comp = [10]\n",
    "for comp in num_comp:\n",
    "    X_train_pca, X_test_pca, eigenfaces = pca_decmp(X_train,X_test,comp)\n",
    "    Prid_NB = Cartoon_bayes(X_train_pca, X_test_pca,y_train, y_test)\n",
    "    print (float(sum(Prid_NB == y_test))/len(y_test))*100\n",
    "    \n",
    "#####################################CartoonLR#####################################################\n",
    "num_comp = [100]\n",
    "for comp in num_comp:\n",
    "    X_train_pca, X_test_pca, eigenfaces = pca_decmp(X_train,X_test,comp)\n",
    "    Prid_LR = Cartoon_LR(X_train_pca, X_test_pca,y_train, y_test)\n",
    "    print (float(sum(Prid_LR == y_test))/len(y_test))*100\n",
    "    \n",
    "#####################################CartoonSVM#####################################################    \n",
    "num_comp = [20]\n",
    "for comp in num_comp:\n",
    "    X_train_pca, X_test_pca, eigenfaces = pca_decmp(X_train,X_test,comp)\n",
    "    Prid_SVM = Cartoon_SVM(X_train_pca, X_test_pca,y_train, y_test)\n",
    "    print (float(sum(Prid_SVM == y_test))/len(y_test))*100\n"
   ]
  },
  {
   "cell_type": "code",
   "execution_count": 14,
   "metadata": {},
   "outputs": [
    {
     "name": "stdout",
     "output_type": "stream",
     "text": [
      "125\n"
     ]
    }
   ],
   "source": [
    "sh = list(range(len(y_test)))\n",
    "shuffle(sh)\n",
    "X_test_V = [np.reshape(X_test[sh[i]],(48,48)) for i in range(len(sh))]\n",
    "print len(X_test)\n",
    "y_ = [Prid_EM[sh[i]] for i in range(len(sh))]\n",
    "plot(X_test_V, output=\"predictions.png\", predictions=y_)"
   ]
  }
 ],
 "metadata": {
  "kernelspec": {
   "display_name": "Python [default]",
   "language": "python",
   "name": "python2"
  },
  "language_info": {
   "codemirror_mode": {
    "name": "ipython",
    "version": 2
   },
   "file_extension": ".py",
   "mimetype": "text/x-python",
   "name": "python",
   "nbconvert_exporter": "python",
   "pygments_lexer": "ipython2",
   "version": "2.7.13"
  }
 },
 "nbformat": 4,
 "nbformat_minor": 2
}
